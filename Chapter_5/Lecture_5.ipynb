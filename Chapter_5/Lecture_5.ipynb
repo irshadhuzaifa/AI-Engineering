{
 "cells": [
  {
   "cell_type": "markdown",
   "id": "4fcd9581",
   "metadata": {},
   "source": [
    "# Lecture 5: Hands-On – Implementing a Simple Transformer from Scratch\n",
    "\n",
    "## Introduction\n",
    "\n",
    "This lecture will guide you through the process of implementing a simple Transformer model from scratch using PyTorch. The Transformer architecture, introduced in *Attention Is All You Need* (Vaswani et al., 2017), is the backbone of modern NLP and AI systems. This hands-on session will help you understand how to build, train, and test a Transformer model for sequence-to-sequence tasks.\n",
    "\n",
    "---\n",
    "\n",
    "## 1. Understanding the Transformer Architecture\n",
    "\n",
    "A Transformer consists of encoder and decoder layers, each composed of:\n",
    "\n",
    "- **Multi-Head Self-Attention**\n",
    "- **Feedforward Neural Networks**\n",
    "- **Positional Encoding**\n",
    "- **Add & Normalize Layers**\n",
    "\n",
    "The encoder processes the input sequence, while the decoder generates an output sequence using the encoder's hidden representations.\n",
    "\n",
    "---\n",
    "\n",
    "## 2. Implementing a Transformer in PyTorch\n",
    "\n",
    "We'll build a basic Transformer model step by step.\n",
    "\n",
    "### Step 1: Install Dependencies\n",
    "\n",
    "Before starting, install the required Python libraries:\n",
    "\n",
    "```bash\n",
    "pip install torch torchtext numpy\n",
    "```\n"
   ]
  },
  {
   "cell_type": "markdown",
   "id": "f57cba53",
   "metadata": {},
   "source": [
    "### Step 2: Import Libraries"
   ]
  },
  {
   "cell_type": "code",
   "execution_count": 18,
   "id": "c3c49ea8",
   "metadata": {},
   "outputs": [],
   "source": [
    "import torch\n",
    "import torch.nn as nn\n",
    "import torch.optim as optim\n",
    "import torch.nn.functional as F\n",
    "import numpy as np\n"
   ]
  },
  {
   "cell_type": "markdown",
   "id": "683441c8",
   "metadata": {},
   "source": [
    "## 3. Building the Key Components of a Transformer\n",
    "### Step 3: Implement Positional Encoding\n",
    "\n",
    "Since Transformers do not have a built-in sequence order mechanism, we use Positional Encoding to add sequence information."
   ]
  },
  {
   "cell_type": "code",
   "execution_count": 19,
   "id": "38dfe9b7",
   "metadata": {},
   "outputs": [],
   "source": [
    "class PositionalEncoding(nn.Module):\n",
    "    def __init__(self, d_model, max_len=5000):\n",
    "        super(PositionalEncoding, self).__init__()\n",
    "        pe = torch.zeros(max_len, d_model)\n",
    "        position = torch.arange(0, max_len, dtype=torch.float).unsqueeze(1)\n",
    "        div_term = torch.exp(torch.arange(0, d_model, 2).float() * (-np.log(10000.0) / d_model))\n",
    "        pe[:, 0::2] = torch.sin(position * div_term)\n",
    "        pe[:, 1::2] = torch.cos(position * div_term)\n",
    "        self.register_buffer('pe', pe.unsqueeze(0))\n",
    "    \n",
    "    def forward(self, x):\n",
    "        return x + self.pe[:, :x.size(1)]\n",
    "    \n",
    "#     This function creates a sine and cosine wave-based encoding to provide word order information."
   ]
  },
  {
   "cell_type": "markdown",
   "id": "3d74b03d",
   "metadata": {},
   "source": [
    "### Step 4: Implement Scaled Dot-Product Attention"
   ]
  },
  {
   "cell_type": "code",
   "execution_count": 20,
   "id": "62d6dc2f",
   "metadata": {},
   "outputs": [],
   "source": [
    "def scaled_dot_product_attention(Q, K, V, mask=None):\n",
    "    d_k = Q.size(-1)\n",
    "    scores = torch.matmul(Q, K.transpose(-2, -1)) / np.sqrt(d_k)\n",
    "    if mask is not None:\n",
    "        scores = scores.masked_fill(mask == 0, -1e9)\n",
    "    attention_weights = F.softmax(scores, dim=-1)\n",
    "    return torch.matmul(attention_weights, V)\n",
    "\n",
    "# This function calculates the self-attention mechanism by computing the dot product between Query (Q), Key (K), and Value (V), scaling the scores, and applying softmax."
   ]
  },
  {
   "cell_type": "markdown",
   "id": "5c40c6d8",
   "metadata": {},
   "source": [
    "### Step 5: Implement Multi-Head Attention"
   ]
  },
  {
   "cell_type": "code",
   "execution_count": 21,
   "id": "0aabaa01",
   "metadata": {},
   "outputs": [],
   "source": [
    "class MultiHeadAttention(nn.Module):\n",
    "    def __init__(self, d_model, num_heads):\n",
    "        super(MultiHeadAttention, self).__init__()\n",
    "        assert d_model % num_heads == 0\n",
    "        self.d_k = d_model // num_heads\n",
    "        self.num_heads = num_heads\n",
    "        self.W_q = nn.Linear(d_model, d_model)\n",
    "        self.W_k = nn.Linear(d_model, d_model)\n",
    "        self.W_v = nn.Linear(d_model, d_model)\n",
    "        self.W_o = nn.Linear(d_model, d_model)\n",
    "    \n",
    "    def forward(self, Q, K, V, mask=None):\n",
    "        Q = self.W_q(Q).view(Q.size(0), -1, self.num_heads, self.d_k).transpose(1, 2)\n",
    "        K = self.W_k(K).view(K.size(0), -1, self.num_heads, self.d_k).transpose(1, 2)\n",
    "        V = self.W_v(V).view(V.size(0), -1, self.num_heads, self.d_k).transpose(1, 2)\n",
    "        \n",
    "        if mask is not None:\n",
    "            mask = mask.unsqueeze(1)\n",
    "        \n",
    "        attention_output = scaled_dot_product_attention(Q, K, V, mask)\n",
    "        attention_output = attention_output.transpose(1, 2).contiguous().view(Q.size(0), -1, self.num_heads * self.d_k)\n",
    "        return self.W_o(attention_output)\n",
    "\n",
    "# This Multi-Head Attention module runs multiple attention layers in parallel to capture different aspects of input sequences."
   ]
  },
  {
   "cell_type": "markdown",
   "id": "a268d857",
   "metadata": {},
   "source": [
    "### Step 6: Implement Feedforward Network"
   ]
  },
  {
   "cell_type": "code",
   "execution_count": 22,
   "id": "cbf2580c",
   "metadata": {},
   "outputs": [],
   "source": [
    "class FeedForward(nn.Module):\n",
    "    def __init__(self, d_model, d_ff):\n",
    "        super(FeedForward, self).__init__()\n",
    "        self.fc1 = nn.Linear(d_model, d_ff)\n",
    "        self.fc2 = nn.Linear(d_ff, d_model)\n",
    "        self.relu = nn.ReLU()\n",
    "    \n",
    "    def forward(self, x):\n",
    "        return self.fc2(self.relu(self.fc1(x)))\n",
    "\n",
    "#     This fully connected feedforward network processes each word representation independently."
   ]
  },
  {
   "cell_type": "code",
   "execution_count": 23,
   "id": "b6d37603",
   "metadata": {},
   "outputs": [],
   "source": [
    "class TransformerEncoderLayer(nn.Module):\n",
    "    def __init__(self, d_model, num_heads, d_ff):\n",
    "        super(TransformerEncoderLayer, self).__init__()\n",
    "        self.attention = MultiHeadAttention(d_model, num_heads)\n",
    "        self.norm1 = nn.LayerNorm(d_model)\n",
    "        self.ffn = FeedForward(d_model, d_ff)\n",
    "        self.norm2 = nn.LayerNorm(d_model)\n",
    "    \n",
    "    def forward(self, x, mask=None):\n",
    "        attn_output = self.attention(x, x, x, mask)\n",
    "        x = self.norm1(x + attn_output)\n",
    "        ffn_output = self.ffn(x)\n",
    "        return self.norm2(x + ffn_output)\n",
    "\n",
    "#     This layer combines multi-head attention, feedforward networks, and layer normalization"
   ]
  },
  {
   "cell_type": "markdown",
   "id": "c7ff90a9",
   "metadata": {},
   "source": [
    "### Step 7: Implement the Transformer Encoder Block."
   ]
  },
  {
   "cell_type": "code",
   "execution_count": 24,
   "id": "460de111",
   "metadata": {},
   "outputs": [],
   "source": [
    "class TransformerEncoder(nn.Module):\n",
    "    def __init__(self, vocab_size, d_model, num_heads, d_ff, num_layers, max_seq_length):\n",
    "        super(TransformerEncoder, self).__init__()\n",
    "        self.embedding = nn.Embedding(vocab_size, d_model)\n",
    "        self.positional_encoding = PositionalEncoding(d_model, max_seq_length)\n",
    "        \n",
    "        self.encoder_layers = nn.ModuleList([\n",
    "            TransformerEncoderLayer(d_model, num_heads, d_ff) \n",
    "            for _ in range(num_layers)\n",
    "        ])\n",
    "        \n",
    "        self.fc_out = nn.Linear(d_model, vocab_size)\n",
    "    \n",
    "    def forward(self, x, mask=None):\n",
    "        # Embed input and add positional encoding\n",
    "        x = self.embedding(x)\n",
    "        x = self.positional_encoding(x)\n",
    "        \n",
    "        # Pass through encoder layers\n",
    "        for layer in self.encoder_layers:\n",
    "            x = layer(x, mask)\n",
    "        \n",
    "        # Final output layer\n",
    "        return self.fc_out(x)\n",
    "\n",
    "    "
   ]
  },
  {
   "cell_type": "markdown",
   "id": "c2ed3a4a",
   "metadata": {},
   "source": [
    "## 4. Training the Transformer\n",
    "\n",
    "After defining the model, training involves:\n",
    "- Data Preprocessing: Tokenizing input sentences.\n",
    "- Forward Pass: Passing data through the Transformer.\n",
    "- Loss Computation: Using CrossEntropyLoss.\n",
    "- Backpropagation & Optimization: Updating model weights using AdamW optimizer."
   ]
  },
  {
   "cell_type": "code",
   "execution_count": 25,
   "id": "ac0dcb70",
   "metadata": {},
   "outputs": [
    {
     "name": "stdout",
     "output_type": "stream",
     "text": [
      "Epoch 1, Loss: 9.384979248046875\n",
      "Epoch 2, Loss: 9.388005256652832\n",
      "Epoch 3, Loss: 9.400662422180176\n",
      "Epoch 4, Loss: 9.405667304992676\n",
      "Epoch 5, Loss: 9.384692192077637\n",
      "Epoch 6, Loss: 9.384952545166016\n",
      "Epoch 7, Loss: 9.392230987548828\n",
      "Epoch 8, Loss: 9.385039329528809\n",
      "Epoch 9, Loss: 9.352282524108887\n",
      "Epoch 10, Loss: 9.373442649841309\n"
     ]
    }
   ],
   "source": [
    "# Example of how to use the model\n",
    "def main():\n",
    "    # Hyperparameters\n",
    "    vocab_size = 10000  # Size of your vocabulary\n",
    "    d_model = 512  # Embedding dimension\n",
    "    num_heads = 8  # Number of attention heads\n",
    "    d_ff = 2048  # Feedforward network dimension\n",
    "    num_layers = 6  # Number of transformer layers\n",
    "    max_seq_length = 100  # Maximum sequence length\n",
    "    \n",
    "    # Create model\n",
    "    model = TransformerEncoder(\n",
    "        vocab_size=vocab_size, \n",
    "        d_model=d_model, \n",
    "        num_heads=num_heads, \n",
    "        d_ff=d_ff, \n",
    "        num_layers=num_layers, \n",
    "        max_seq_length=max_seq_length\n",
    "    )\n",
    "    \n",
    "    # Dummy training setup\n",
    "    criterion = nn.CrossEntropyLoss()\n",
    "    optimizer = optim.AdamW(model.parameters(), lr=1e-3)\n",
    "    \n",
    "    # Simulate training\n",
    "    for epoch in range(10):\n",
    "        # Generate dummy input and target data\n",
    "        input_data = torch.randint(0, vocab_size, (32, max_seq_length))  # Batch of 32 sequences\n",
    "        target_data = torch.randint(0, vocab_size, (32, max_seq_length))\n",
    "        \n",
    "        optimizer.zero_grad()\n",
    "        outputs = model(input_data)\n",
    "        \n",
    "        # Reshape for loss calculation\n",
    "        loss = criterion(outputs.view(-1, vocab_size), target_data.view(-1))\n",
    "        loss.backward()\n",
    "        optimizer.step()\n",
    "        \n",
    "        print(f\"Epoch {epoch+1}, Loss: {loss.item()}\")\n",
    "\n",
    "if __name__ == \"__main__\":\n",
    "    main()"
   ]
  },
  {
   "cell_type": "code",
   "execution_count": null,
   "id": "b6dd5e15",
   "metadata": {},
   "outputs": [],
   "source": []
  }
 ],
 "metadata": {
  "kernelspec": {
   "display_name": "Python 3 (ipykernel)",
   "language": "python",
   "name": "python3"
  },
  "language_info": {
   "codemirror_mode": {
    "name": "ipython",
    "version": 3
   },
   "file_extension": ".py",
   "mimetype": "text/x-python",
   "name": "python",
   "nbconvert_exporter": "python",
   "pygments_lexer": "ipython3",
   "version": "3.11.5"
  }
 },
 "nbformat": 4,
 "nbformat_minor": 5
}
